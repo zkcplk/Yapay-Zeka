{
 "cells": [
  {
   "cell_type": "markdown",
   "id": "6159ee70",
   "metadata": {},
   "source": [
    "# Python'da Sesi Yazıya Çevirme"
   ]
  },
  {
   "cell_type": "code",
   "execution_count": 1,
   "id": "9aacc94b",
   "metadata": {},
   "outputs": [],
   "source": [
    "# Eğer \"speech_recognition\" kütüphanesi makinemizde kurulu değilse,\n",
    "# öncelikle aşağıdaki komutla kütüphanenin kurulması gerekiyor.\n",
    "# pip install speech_recognition\n",
    "\n",
    "# kütüphane kurulu ise, \n",
    "# import komutuyla kütüphaneyi kodumuza dahil etmemiz yeterlidir.\n",
    "import speech_recognition as sr"
   ]
  },
  {
   "cell_type": "code",
   "execution_count": 2,
   "id": "e889a8a8",
   "metadata": {},
   "outputs": [
    {
     "name": "stdout",
     "output_type": "stream",
     "text": [
      "Sesiniz kaydediliyor...\n",
      "\n",
      "Siz: python'da sesi yazıya çevirmek çok kolay\n"
     ]
    }
   ],
   "source": [
    "# öncelikle bir tanımlayıcı oluşturuyoruz.\n",
    "# bu tanımlayıcı sesi kaydedip, çözümlememizde yardımcı olacak.\n",
    "r = sr.Recognizer()\n",
    "\n",
    "# hataları kontrol edebilme amacıyla, try-except yapısını kullanıyoruz.\n",
    "try: \n",
    "    # bilgisayarın mikrofonunu kaynak olarak kullanıyoruz.\n",
    "    with sr.Microphone() as kaynak:\n",
    "        print(\"Sesiniz kaydediliyor...\\n\")\n",
    "        \n",
    "        # ses kaydetmek için kullanabileceğimiz 2 metot var.\n",
    "\n",
    "        # .record(...)\n",
    "        # bu metotta sesler, \"duration\" saniye kadar kayıt edilir.\n",
    "        # ses_verisi = r.record(kaynak, duration=3)\n",
    "\n",
    "        # .listen(...)\n",
    "        # bu metotta ise, \n",
    "        # kayıt esnasında \"timeout\" saniye kadar bir sessizlik \n",
    "        # tespit edildiğinde ses kaydı durdurulur.\n",
    "        ses_verisi = r.listen(kaynak, timeout=2)\n",
    "\n",
    "        # dinlenen sesler, ses_verisi değişkenine kaydedildi. \n",
    "        # şimdi, google'ın önceden eğitilmiş yapay zeka modeliyle sesleri çözüyoruz\n",
    "        cevap = r.recognize_google(ses_verisi, None, show_all=True, language=\"tr-TR\")\n",
    "        \n",
    "        # modelden döndürülen tüm cevabı da görmek isteyebiliriz.\n",
    "        # print(cevap)\n",
    "\n",
    "        # cevap değişkeninde birçok bilgi vardır.\n",
    "        # bu bilgilerden, sadece sesin metinsel karşılığını çekiyoruz.\n",
    "        # sesin ne olduğu çözülemezse, hatanın meydana gelmemesi için, \n",
    "        # cevap değişkenini kontrol ediyoruz.\n",
    "        if len(cevap) < 1:\n",
    "            soylenen = \"... (söyledikleriniz çözümlenemedi!)\"\n",
    "        else: \n",
    "            soylenen = cevap['alternative'][0]['transcript']\n",
    "\n",
    "        # çözülen metni konsola yazdırıyoruz\n",
    "        print(\"Siz:\", soylenen)\n",
    "\n",
    "# meydana gelebilecek her tür hata için except yapıları.\n",
    "except sr.RequestError as hata:\n",
    "    print(f\"Hata: {hata}\")\n",
    "\n",
    "except sr.WaitTimeoutError:\n",
    "    print(\"Hata: Hiçbir ses algılanmadı!\")\n",
    "\n",
    "except sr.UnknownValueError:\n",
    "    print(\"Hata: Bilinmeyen bir hata meydana geldi!\")"
   ]
  },
  {
   "cell_type": "markdown",
   "id": "39791013",
   "metadata": {},
   "source": [
    "<hr>\n",
    "<p style=\"text-align:center;font-size:12px\">\n",
    "<b>Öğr. Gör. Zeki ÇIPLAK</b><br>\n",
    "İstanbul Gedik Üniversitesi<br>\n",
    "Gedik MYO / Bilgisayar Programcılığı<br>\n",
    "<a href=\"https://linkedin.com/in/zkcplk\">LinkedIn</a> \n",
    "<a href=\"https://zkcplk.medium.com\">Blog</a> \n",
    "<a href=\"https://youtube.com/@zkcplk\">YouTube</a> \n",
    "</p>"
   ]
  }
 ],
 "metadata": {
  "kernelspec": {
   "display_name": "Python 3 (ipykernel)",
   "language": "python",
   "name": "python3"
  },
  "language_info": {
   "codemirror_mode": {
    "name": "ipython",
    "version": 3
   },
   "file_extension": ".py",
   "mimetype": "text/x-python",
   "name": "python",
   "nbconvert_exporter": "python",
   "pygments_lexer": "ipython3",
   "version": "3.9.13"
  }
 },
 "nbformat": 4,
 "nbformat_minor": 5
}
