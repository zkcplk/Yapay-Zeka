{
 "cells": [
  {
   "cell_type": "markdown",
   "id": "20807788",
   "metadata": {},
   "source": [
    "# ChatGPT ile Soru Cevap"
   ]
  },
  {
   "cell_type": "code",
   "execution_count": 1,
   "id": "25ce7aff",
   "metadata": {},
   "outputs": [],
   "source": [
    "# pip install --upgrade openai\n",
    "import openai as ai\n",
    "\n",
    "ai.api_key = \"...\"\n",
    "ai_model = \"gpt-3.5-turbo\""
   ]
  },
  {
   "cell_type": "code",
   "execution_count": 2,
   "id": "9ccaabfc",
   "metadata": {},
   "outputs": [
    {
     "name": "stdout",
     "output_type": "stream",
     "text": [
      "Soru: Türkiye'de kaç il vardır?\n",
      "ChatGPT: Türkiye'de 81 il vardır.\n",
      "\n"
     ]
    }
   ],
   "source": [
    "soru = \"\"\"Türkiye'de kaç il vardır?\"\"\"\n",
    "\n",
    "# ChatGPT'ye user modunda \n",
    "cevap = ai.ChatCompletion.create(\n",
    "    model=ai_model, \n",
    "    messages=[{\"role\": \"user\", \"content\": soru}]\n",
    ")\n",
    "\n",
    "# döndürülen tüm cevap\n",
    "# print(cevap)\n",
    "\n",
    "print(\"Soru:\", soru)\n",
    "print(\"ChatGPT:\", cevap[\"choices\"][0][\"message\"][\"content\"].strip(), end=\"\\n\\n\")"
   ]
  },
  {
   "cell_type": "code",
   "execution_count": 3,
   "id": "ac28b99e",
   "metadata": {},
   "outputs": [],
   "source": [
    "# Türkiye'de kaç il vardır?\n",
    "\n",
    "# İstanbul Gedik Üniversitesi ne zaman kurulmuştur?\n",
    "\n",
    "# İstanbul'daki ilçelerin nüfus sayılarını tablo halinde verir misin?\n",
    "\n",
    "# Aşağıdaki ingilizce metni türkçe'ye çevirir misin? \n",
    "# Here you can find activities to practise your reading skills. Reading will help you to improve your understanding of the language and build your vocabulary.\n",
    "\n",
    "# Aşağıdaki fransızca metni türkçe'ye çevirir misin?\n",
    "# Je m'appelle Angélica Summer, j'ai 21 ans et je suis canadienne. Il y a 5 ans, ma famille et moi avons déménagé dans le sud de la France.\n"
   ]
  },
  {
   "cell_type": "markdown",
   "id": "67874cb8",
   "metadata": {},
   "source": [
    "<hr>\n",
    "<p style=\"text-align:center;font-size:12px\">\n",
    "<b>Öğr. Gör. Zeki ÇIPLAK</b><br>\n",
    "İstanbul Gedik Üniversitesi<br>\n",
    "Gedik MYO / Bilgisayar Programcılığı<br>\n",
    "<a href=\"https://linkedin.com/in/zkcplk\">LinkedIn</a> \n",
    "<a href=\"https://zkcplk.medium.com\">Blog</a> \n",
    "<a href=\"https://youtube.com/@zkcplk\">YouTube</a> \n",
    "</p>"
   ]
  }
 ],
 "metadata": {
  "kernelspec": {
   "display_name": "Python 3 (ipykernel)",
   "language": "python",
   "name": "python3"
  },
  "language_info": {
   "codemirror_mode": {
    "name": "ipython",
    "version": 3
   },
   "file_extension": ".py",
   "mimetype": "text/x-python",
   "name": "python",
   "nbconvert_exporter": "python",
   "pygments_lexer": "ipython3",
   "version": "3.9.13"
  }
 },
 "nbformat": 4,
 "nbformat_minor": 5
}
