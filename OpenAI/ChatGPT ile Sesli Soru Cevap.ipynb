{
 "cells": [
  {
   "cell_type": "markdown",
   "id": "a288c011",
   "metadata": {},
   "source": [
    "# ChatGPT ile Sesli Soru Cevap"
   ]
  },
  {
   "cell_type": "code",
   "execution_count": 1,
   "id": "ce25f614",
   "metadata": {},
   "outputs": [],
   "source": [
    "import openai as ai\n",
    "import speech_recognition as sr\n",
    "\n",
    "ai.api_key = \"...\"\n",
    "ai_model = \"gpt-3.5-turbo\""
   ]
  },
  {
   "cell_type": "code",
   "execution_count": 2,
   "id": "c525678d",
   "metadata": {},
   "outputs": [
    {
     "name": "stdout",
     "output_type": "stream",
     "text": [
      "Sesiniz kaydediliyor...\n",
      "\n",
      "Siz: Türkiye'de kaç il vardır\n",
      "ChatGPT: Türkiye'de 81 il vardır.\n",
      "\n"
     ]
    }
   ],
   "source": [
    "r = sr.Recognizer()\n",
    "\n",
    "try: \n",
    "    with sr.Microphone() as kaynak:\n",
    "        print(\"Sesiniz kaydediliyor...\\n\")\n",
    "\n",
    "        ses_verisi = r.listen(kaynak, timeout=2)\n",
    "        cevap = r.recognize_google(ses_verisi, None, show_all=True, language=\"tr-TR\")\n",
    "\n",
    "        if len(cevap) < 1:\n",
    "            soylenen = \"...\"\n",
    "        else: \n",
    "            soylenen = cevap['alternative'][0]['transcript']\n",
    "\n",
    "        print(\"Siz:\", soylenen)\n",
    "        \n",
    "        cevap = ai.ChatCompletion.create(\n",
    "            model=ai_model, \n",
    "            messages=[{\"role\": \"user\", \"content\": soylenen}]\n",
    "        )\n",
    "        print(\"ChatGPT:\", cevap[\"choices\"][0][\"message\"][\"content\"].strip(), end=\"\\n\\n\")\n",
    "\n",
    "except sr.RequestError as hata:\n",
    "    print(f\"Hata: {hata}\")\n",
    "\n",
    "except sr.WaitTimeoutError:\n",
    "    print(\"Hata: Hiçbir ses algılanmadı!\")\n",
    "\n",
    "except sr.UnknownValueError:\n",
    "    print(\"Hata: Bilinmeyen bir hata meydana geldi!\")"
   ]
  },
  {
   "cell_type": "markdown",
   "id": "5f8349eb",
   "metadata": {},
   "source": [
    "# Dilersek, yazıyı sese çeviren kütüphaneyi de entegre edebiliriz.\n",
    "Bunu nasıl yapacağımızı da direkt ChatGPT'nin kendisine sorabiliriz."
   ]
  },
  {
   "cell_type": "code",
   "execution_count": 3,
   "id": "541d2758",
   "metadata": {},
   "outputs": [
    {
     "data": {
      "text/html": [
       "\n",
       "                <audio  controls=\"controls\" autoplay=\"autoplay\">\n",
       "                    <source src=\"data:audio/mpeg;base64,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\" type=\"audio/mpeg\" />\n",
       "                    Your browser does not support the audio element.\n",
       "                </audio>\n",
       "              "
      ],
      "text/plain": [
       "<IPython.lib.display.Audio object>"
      ]
     },
     "execution_count": 3,
     "metadata": {},
     "output_type": "execute_result"
    }
   ],
   "source": [
    "# yazıyı sese çeviren bir python kütüphanesi kullanarak, \n",
    "# Jupyter notebook üzerinde çalışan, \n",
    "# örnek bir kod verebilir misin?\n",
    "\n",
    "# alternatif:\n",
    "# Google Text to Speech kütüphanesini kullanarak yazıyı sese çeviren bir python kodu verebilir misin \n",
    "# bu kodun Jüpiter notebook üzerinde çalışması gerekiyor\n",
    "\n",
    "\n",
    "from gtts import gTTS\n",
    "from IPython.display import Audio\n",
    "\n",
    "tts = gTTS(text=cevap[\"choices\"][0][\"message\"][\"content\"].strip(), lang=\"tr\")\n",
    "tts.save('ses.mp3')\n",
    "\n",
    "sonuc = Audio('ses.mp3', autoplay=True)\n",
    "sonuc"
   ]
  },
  {
   "cell_type": "markdown",
   "id": "37dbf7de",
   "metadata": {},
   "source": [
    "<hr>\n",
    "<p style=\"text-align:center;font-size:12px\">\n",
    "<b>Öğr. Gör. Zeki ÇIPLAK</b><br>\n",
    "İstanbul Gedik Üniversitesi<br>\n",
    "Gedik MYO / Bilgisayar Programcılığı<br>\n",
    "<a href=\"https://linkedin.com/in/zkcplk\">LinkedIn</a> \n",
    "<a href=\"https://zkcplk.medium.com\">Blog</a> \n",
    "<a href=\"https://youtube.com/@zkcplk\">YouTube</a> \n",
    "</p>"
   ]
  }
 ],
 "metadata": {
  "kernelspec": {
   "display_name": "Python 3 (ipykernel)",
   "language": "python",
   "name": "python3"
  },
  "language_info": {
   "codemirror_mode": {
    "name": "ipython",
    "version": 3
   },
   "file_extension": ".py",
   "mimetype": "text/x-python",
   "name": "python",
   "nbconvert_exporter": "python",
   "pygments_lexer": "ipython3",
   "version": "3.9.13"
  }
 },
 "nbformat": 4,
 "nbformat_minor": 5
}
